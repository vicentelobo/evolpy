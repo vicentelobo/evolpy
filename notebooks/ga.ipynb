{
 "cells": [
  {
   "cell_type": "markdown",
   "metadata": {},
   "source": [
    "Let's start by importing some libraries:"
   ]
  },
  {
   "cell_type": "code",
   "execution_count": 1,
   "metadata": {},
   "outputs": [],
   "source": [
    "import numpy as np\n",
    "import matplotlib.pyplot as plt\n",
    "from collections import OrderedDict\n",
    "import sys\n",
    "sys.path.append(\"..\")"
   ]
  },
  {
   "cell_type": "markdown",
   "metadata": {},
   "source": [
    "# Genetic Algorithm"
   ]
  },
  {
   "cell_type": "markdown",
   "metadata": {},
   "source": [
    "We'll start using the Genetic Algorithm. First, we need to import it."
   ]
  },
  {
   "cell_type": "code",
   "execution_count": 2,
   "metadata": {},
   "outputs": [],
   "source": [
    "from evolpy import GA"
   ]
  },
  {
   "cell_type": "markdown",
   "metadata": {},
   "source": [
    "### Sphere Function"
   ]
  },
  {
   "cell_type": "markdown",
   "metadata": {},
   "source": [
    "Next, we need to define what will be the fitness function to be minimized.\n",
    "\n",
    "We'll begin by an easy one, the Sphere Function [1].\n",
    "\n",
    "$$\n",
    "f(x_1, x_2, ..., x_n) = \\sum_{i=1}^{n} x_i^2,\n",
    "$$\n",
    "subject to $0 \\leq x_i \\leq 10$.\n",
    "\n",
    "Plot:\n",
    "\n",
    "![Source: BenchmarkFcns](http://benchmarkfcns.xyz/benchmarkfcns/plots/spherefcn.png \"Source: BenchmarkFcns\")\n",
    "\n",
    "The global minima is located at $x^* = (0, 0, ..., 0), f(x^*) = 0$.\n",
    "\n",
    "[1] M. A. Schumer, K. Steiglitz, “Adaptive Step Size Random Search,” IEEE Transactions\n",
    "on Automatic Control. vol. 13, no. 3, pp. 270-276, 1968."
   ]
  },
  {
   "cell_type": "markdown",
   "metadata": {},
   "source": [
    "It can be easily represented using NumPy:"
   ]
  },
  {
   "cell_type": "code",
   "execution_count": 3,
   "metadata": {},
   "outputs": [],
   "source": [
    "def sphere(individual):\n",
    "    return np.square(individual).sum()"
   ]
  },
  {
   "cell_type": "markdown",
   "metadata": {},
   "source": [
    "To represent the parameters, we'll use an OrderedDict, since it records the insertion order. We'll create a dictionary where each key is a $x_i$ and the value is a tuple of the bounds (0, 10). Our problem will have 5 dimensions."
   ]
  },
  {
   "cell_type": "code",
   "execution_count": 4,
   "metadata": {},
   "outputs": [],
   "source": [
    "parameters = OrderedDict([(f'x{i}', (0,10)) for i in range(5)])"
   ]
  },
  {
   "cell_type": "markdown",
   "metadata": {},
   "source": [
    "Having all this, we can instantiate the evolver. We'll use a population size of 25 and the maximum number of generations will be 500."
   ]
  },
  {
   "cell_type": "code",
   "execution_count": 5,
   "metadata": {},
   "outputs": [],
   "source": [
    "evolver = GA(fitness=sphere, parameters=parameters, populationSize=25, maxGen=1000)"
   ]
  },
  {
   "cell_type": "markdown",
   "metadata": {},
   "source": [
    "Next, we just need to call the evolver's function `run`. It will return two elements: \n",
    "1. The best individual. It will be returned as a dictionary containing the values of each dimension and the fitness of the best individual.\n",
    "1. The history of fitness values as a list."
   ]
  },
  {
   "cell_type": "code",
   "execution_count": 6,
   "metadata": {},
   "outputs": [
    {
     "data": {
      "application/vnd.jupyter.widget-view+json": {
       "model_id": "bf84f4ae8e424f50989eec7f6314bf26",
       "version_major": 2,
       "version_minor": 0
      },
      "text/plain": [
       "HBox(children=(FloatProgress(value=0.0, description='Generations', max=1000.0, style=ProgressStyle(description…"
      ]
     },
     "metadata": {},
     "output_type": "display_data"
    },
    {
     "name": "stdout",
     "output_type": "stream",
     "text": [
      "\n"
     ]
    }
   ],
   "source": [
    "best_individual, fitness_history = evolver.run()"
   ]
  },
  {
   "cell_type": "markdown",
   "metadata": {},
   "source": [
    "We can see the best individual information:"
   ]
  },
  {
   "cell_type": "code",
   "execution_count": 7,
   "metadata": {},
   "outputs": [
    {
     "name": "stdout",
     "output_type": "stream",
     "text": [
      "('x0', 0.11842066304851184)\n",
      "('x1', 0.015)\n",
      "('x2', 0.18937681760768377)\n",
      "('x3', 0.516)\n",
      "('x4', 0.6306369941198509)\n",
      "\n",
      "Fitness: 0.714071050836584\n"
     ]
    }
   ],
   "source": [
    "print(*best_individual['gene'].items(), sep='\\n')\n",
    "\n",
    "print('\\nFitness: {}'.format(best_individual['fitness']))"
   ]
  },
  {
   "cell_type": "markdown",
   "metadata": {},
   "source": [
    "Plotting the fitness history."
   ]
  },
  {
   "cell_type": "code",
   "execution_count": 8,
   "metadata": {},
   "outputs": [
    {
     "data": {
      "image/png": "[encoded data removed]",
      "text/plain": [
       "<Figure size 432x288 with 1 Axes>"
      ]
     },
     "metadata": {
      "needs_background": "light"
     },
     "output_type": "display_data"
    }
   ],
   "source": [
    "plt.plot(fitness_history)\n",
    "plt.xlabel(\"Iterations\")\n",
    "plt.ylabel(\"Fitness\")\n",
    "plt.show()"
   ]
  }
 ],
 "metadata": {
  "kernelspec": {
   "display_name": "Python 3",
   "language": "python",
   "name": "python3"
  },
  "language_info": {
   "codemirror_mode": {
    "name": "ipython",
    "version": 3
   },
   "file_extension": ".py",
   "mimetype": "text/x-python",
   "name": "python",
   "nbconvert_exporter": "python",
   "pygments_lexer": "ipython3",
   "version": "3.8.5"
  }
 },
 "nbformat": 4,
 "nbformat_minor": 4
}

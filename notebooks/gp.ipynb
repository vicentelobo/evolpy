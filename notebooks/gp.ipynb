{
 "cells": [
  {
   "cell_type": "markdown",
   "metadata": {},
   "source": [
    "Let's start by importing some libraries:"
   ]
  },
  {
   "cell_type": "code",
   "execution_count": 1,
   "metadata": {},
   "outputs": [],
   "source": [
    "import numpy as np\n",
    "import matplotlib.pyplot as plt\n",
    "from collections import OrderedDict\n",
    "import sys\n",
    "sys.path.append(\"..\")"
   ]
  },
  {
   "cell_type": "markdown",
   "metadata": {},
   "source": [
    "# Genetic Programming"
   ]
  },
  {
   "cell_type": "markdown",
   "metadata": {},
   "source": [
    "Now we'll use the Genetic Programming. Importing it:"
   ]
  },
  {
   "cell_type": "code",
   "execution_count": 2,
   "metadata": {},
   "outputs": [],
   "source": [
    "from evolpy import GP"
   ]
  },
  {
   "cell_type": "markdown",
   "metadata": {},
   "source": [
    "## Periodic Function"
   ]
  },
  {
   "cell_type": "markdown",
   "metadata": {},
   "source": [
    "Now we'll use a different function, the Periodic Function [2].\n",
    "\n",
    "$$\n",
    "f(x_1, x_2, ..., x_n) = 1 + \\sum_{i=1}^{n} \\sin^2(x_i) - 0.1e^{(\\sum_{i=1}^{n} x_i^2)},\n",
    "$$\n",
    "subject to $-10 \\leq x_i \\leq 10$.\n",
    "\n",
    "Plot:\n",
    "\n",
    "![Source: BenchmarkFcns](http://benchmarkfcns.xyz/benchmarkfcns/plots/periodicfcn.png \"Source: BenchmarkFcns\")\n",
    "\n",
    "The global minima is located at $x^* = (0, 0, ..., 0), f(x^*) = 0.9$.\n",
    "\n",
    "[2] M. M. Ali, C. Khompatraporn, Z. B. Zabinsky, “A Numerical Evaluation of Several\n",
    "Stochastic Algorithms on Selected Continuous Global Optimization Test Problems,”\n",
    "Journal of Global Optimization, vol. 31, pp. 635-672, 2005."
   ]
  },
  {
   "cell_type": "markdown",
   "metadata": {},
   "source": [
    "Converting to Python:"
   ]
  },
  {
   "cell_type": "code",
   "execution_count": 3,
   "metadata": {},
   "outputs": [],
   "source": [
    "def periodic(individual):\n",
    "    sum_squared_sin = np.square(np.sin(individual)).sum()\n",
    "    sum_squared = np.square(individual).sum()\n",
    "    return 1 + sum_squared_sin -.1*np.exp(-sum_squared)"
   ]
  },
  {
   "cell_type": "markdown",
   "metadata": {},
   "source": [
    "The parameters will be represented again using an OrderedDict. We'll create a dictionary where each key is a $x_i$ and the value is a tuple of the bounds (-10, 10)."
   ]
  },
  {
   "cell_type": "code",
   "execution_count": 4,
   "metadata": {},
   "outputs": [],
   "source": [
    "parameters = OrderedDict([(f'x{i}', (-10,10)) for i in range(5)])"
   ]
  },
  {
   "cell_type": "markdown",
   "metadata": {},
   "source": [
    "Instantiating and running the evolver:"
   ]
  },
  {
   "cell_type": "code",
   "execution_count": 5,
   "metadata": {},
   "outputs": [
    {
     "data": {
      "application/vnd.jupyter.widget-view+json": {
       "model_id": "5bcc75e0dde244ca92a072b867c4b52c",
       "version_major": 2,
       "version_minor": 0
      },
      "text/plain": [
       "HBox(children=(FloatProgress(value=0.0, description='Generations', style=ProgressStyle(description_width='init…"
      ]
     },
     "metadata": {},
     "output_type": "display_data"
    },
    {
     "name": "stdout",
     "output_type": "stream",
     "text": [
      "\n"
     ]
    }
   ],
   "source": [
    "evolver = GP(fitness=periodic, \n",
    "             parameters=parameters, \n",
    "             populationSize=10, \n",
    "             maxGen=100)\n",
    "\n",
    "best_individual, fitness_history = evolver.run()"
   ]
  },
  {
   "cell_type": "markdown",
   "metadata": {},
   "source": [
    "Best individual information:"
   ]
  },
  {
   "cell_type": "code",
   "execution_count": 6,
   "metadata": {},
   "outputs": [
    {
     "name": "stdout",
     "output_type": "stream",
     "text": [
      "('x0', 3.9076640908574863e-32)\n",
      "('x1', 3.564544428926355e-49)\n",
      "('x2', 2.8798545429632042e-36)\n",
      "('x3', 1.1066854747258031e-45)\n",
      "('x4', 1.610777921754867e-41)\n",
      "\n",
      "Fitness: 0.9\n"
     ]
    }
   ],
   "source": [
    "print(*best_individual['gene'].items(), sep='\\n')\n",
    "\n",
    "print('\\nFitness: {}'.format(best_individual['fitness']))"
   ]
  },
  {
   "cell_type": "markdown",
   "metadata": {},
   "source": [
    "Fitness history plot:"
   ]
  },
  {
   "cell_type": "code",
   "execution_count": 7,
   "metadata": {
    "scrolled": true
   },
   "outputs": [
    {
     "data": {
      "image/png": "[encoded data removed]",
      "text/plain": [
       "<Figure size 432x288 with 1 Axes>"
      ]
     },
     "metadata": {
      "needs_background": "light"
     },
     "output_type": "display_data"
    }
   ],
   "source": [
    "plt.plot(fitness_history)\n",
    "plt.xlabel(\"Iterations\")\n",
    "plt.ylabel(\"Fitness\")\n",
    "plt.show()"
   ]
  }
 ],
 "metadata": {
  "kernelspec": {
   "display_name": "Python 3",
   "language": "python",
   "name": "python3"
  },
  "language_info": {
   "codemirror_mode": {
    "name": "ipython",
    "version": 3
   },
   "file_extension": ".py",
   "mimetype": "text/x-python",
   "name": "python",
   "nbconvert_exporter": "python",
   "pygments_lexer": "ipython3",
   "version": "3.8.5"
  }
 },
 "nbformat": 4,
 "nbformat_minor": 4
}
